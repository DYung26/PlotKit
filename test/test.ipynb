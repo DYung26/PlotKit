{
 "cells": [
  {
   "cell_type": "code",
   "execution_count": null,
   "metadata": {},
   "outputs": [
    {
     "ename": "ModuleNotFoundError",
     "evalue": "No module named 'explanationsv2'",
     "output_type": "error",
     "traceback": [
      "\u001b[31m---------------------------------------------------------------------------\u001b[39m",
      "\u001b[31mModuleNotFoundError\u001b[39m                       Traceback (most recent call last)",
      "\u001b[36mCell\u001b[39m\u001b[36m \u001b[39m\u001b[32mIn[1]\u001b[39m\u001b[32m, line 6\u001b[39m\n\u001b[32m      4\u001b[39m \u001b[38;5;28;01mimport\u001b[39;00m\u001b[38;5;250m \u001b[39m\u001b[34;01mmatplotlib\u001b[39;00m\u001b[34;01m.\u001b[39;00m\u001b[34;01mpyplot\u001b[39;00m\u001b[38;5;250m \u001b[39m\u001b[38;5;28;01mas\u001b[39;00m\u001b[38;5;250m \u001b[39m\u001b[34;01mplt\u001b[39;00m\n\u001b[32m      5\u001b[39m \u001b[38;5;28;01mimport\u001b[39;00m\u001b[38;5;250m \u001b[39m\u001b[34;01mseaborn\u001b[39;00m\u001b[38;5;250m \u001b[39m\u001b[38;5;28;01mas\u001b[39;00m\u001b[38;5;250m \u001b[39m\u001b[34;01msns\u001b[39;00m\n\u001b[32m----> \u001b[39m\u001b[32m6\u001b[39m \u001b[38;5;28;01mfrom\u001b[39;00m\u001b[38;5;250m \u001b[39m\u001b[34;01mexplanationsv2\u001b[39;00m\u001b[38;5;250m \u001b[39m\u001b[38;5;28;01mimport\u001b[39;00m refine_plot_explanation\n\u001b[32m      7\u001b[39m \u001b[38;5;28;01mfrom\u001b[39;00m\u001b[38;5;250m \u001b[39m\u001b[34;01mplotsense\u001b[39;00m\u001b[34;01m.\u001b[39;00m\u001b[34;01mvisual_suggestion\u001b[39;00m\u001b[34;01m.\u001b[39;00m\u001b[34;01mVisual_suggestion_v2\u001b[39;00m\u001b[38;5;250m \u001b[39m\u001b[38;5;28;01mimport\u001b[39;00m recommend_visualizations\n",
      "\u001b[31mModuleNotFoundError\u001b[39m: No module named 'explanationsv2'"
     ]
    }
   ],
   "source": [
    "import sys\n",
    "import os\n",
    "import pandas as pd\n",
    "import matplotlib.pyplot as plt\n",
    "import seaborn as sns\n",
    "from plotsense.explanations.explanationsv2 import refine_plot_explanation\n",
    "from plotsense.visual_suggestion.Visual_suggestion_v2 import recommend_visualizations"
   ]
  },
  {
   "cell_type": "code",
   "execution_count": null,
   "metadata": {},
   "outputs": [
    {
     "data": {
      "text/plain": [
       "['anagrams',\n",
       " 'anscombe',\n",
       " 'attention',\n",
       " 'brain_networks',\n",
       " 'car_crashes',\n",
       " 'diamonds',\n",
       " 'dots',\n",
       " 'dowjones',\n",
       " 'exercise',\n",
       " 'flights',\n",
       " 'fmri',\n",
       " 'geyser',\n",
       " 'glue',\n",
       " 'healthexp',\n",
       " 'iris',\n",
       " 'mpg',\n",
       " 'penguins',\n",
       " 'planets',\n",
       " 'seaice',\n",
       " 'taxis',\n",
       " 'tips',\n",
       " 'titanic']"
      ]
     },
     "execution_count": 3,
     "metadata": {},
     "output_type": "execute_result"
    }
   ],
   "source": [
    "sns.get_dataset_names()"
   ]
  },
  {
   "cell_type": "code",
   "execution_count": null,
   "metadata": {},
   "outputs": [
    {
     "data": {
      "text/plain": [
       "Index(['survived', 'pclass', 'sex', 'age', 'sibsp', 'parch', 'fare',\n",
       "       'embarked', 'class', 'who', 'adult_male', 'deck', 'embark_town',\n",
       "       'alive', 'alone'],\n",
       "      dtype='object')"
      ]
     },
     "execution_count": 15,
     "metadata": {},
     "output_type": "execute_result"
    }
   ],
   "source": [
    "titanic = sns.load_dataset('titanic')\n",
    "titanic.columns"
   ]
  },
  {
   "cell_type": "code",
   "execution_count": null,
   "metadata": {},
   "outputs": [],
   "source": [
    "df = recommend_visualizations(titanic)"
   ]
  },
  {
   "cell_type": "code",
   "execution_count": null,
   "metadata": {},
   "outputs": [
    {
     "data": {
      "text/html": [
       "<div>\n",
       "<style scoped>\n",
       "    .dataframe tbody tr th:only-of-type {\n",
       "        vertical-align: middle;\n",
       "    }\n",
       "\n",
       "    .dataframe tbody tr th {\n",
       "        vertical-align: top;\n",
       "    }\n",
       "\n",
       "    .dataframe thead th {\n",
       "        text-align: right;\n",
       "    }\n",
       "</style>\n",
       "<table border=\"1\" class=\"dataframe\">\n",
       "  <thead>\n",
       "    <tr style=\"text-align: right;\">\n",
       "      <th></th>\n",
       "      <th>plot_type</th>\n",
       "      <th>variables</th>\n",
       "      <th>rationale</th>\n",
       "      <th>ensemble_score</th>\n",
       "    </tr>\n",
       "  </thead>\n",
       "  <tbody>\n",
       "    <tr>\n",
       "      <th>0</th>\n",
       "      <td>bar chart</td>\n",
       "      <td>survived, pclass</td>\n",
       "      <td>This chart will help us understand the surviva...</td>\n",
       "      <td>1.0</td>\n",
       "    </tr>\n",
       "    <tr>\n",
       "      <th>1</th>\n",
       "      <td>bar chart</td>\n",
       "      <td>survived, sex</td>\n",
       "      <td>This visualization is valuable because it can ...</td>\n",
       "      <td>0.6</td>\n",
       "    </tr>\n",
       "    <tr>\n",
       "      <th>2</th>\n",
       "      <td>scatter plot</td>\n",
       "      <td>age, fare</td>\n",
       "      <td>This scatter plot will reveal any potential re...</td>\n",
       "      <td>0.5</td>\n",
       "    </tr>\n",
       "  </tbody>\n",
       "</table>\n",
       "</div>"
      ],
      "text/plain": [
       "      plot_type         variables  \\\n",
       "0     bar chart  survived, pclass   \n",
       "1     bar chart     survived, sex   \n",
       "2  scatter plot         age, fare   \n",
       "\n",
       "                                           rationale  ensemble_score  \n",
       "0  This chart will help us understand the surviva...             1.0  \n",
       "1  This visualization is valuable because it can ...             0.6  \n",
       "2  This scatter plot will reveal any potential re...             0.5  "
      ]
     },
     "execution_count": 17,
     "metadata": {},
     "output_type": "execute_result"
    }
   ],
   "source": [
    "df"
   ]
  },
  {
   "cell_type": "code",
   "execution_count": null,
   "metadata": {},
   "outputs": [
    {
     "data": {
      "text/plain": [
       "<Axes: xlabel='survived', ylabel='pclass'>"
      ]
     },
     "execution_count": 20,
     "metadata": {},
     "output_type": "execute_result"
    },
    {
     "data": {
      "image/png": "[encoded data removed]",
      "text/plain": [
       "<Figure size 640x480 with 1 Axes>"
      ]
     },
     "metadata": {},
     "output_type": "display_data"
    }
   ],
   "source": [
    "fig, ax = plt.subplots()\n",
    "sns.barplot(data=titanic, x='survived', y='pclass', ax=ax)"
   ]
  },
  {
   "cell_type": "code",
   "execution_count": null,
   "metadata": {},
   "outputs": [],
   "source": [
    "dd"
   ]
  },
  {
   "cell_type": "code",
   "execution_count": null,
   "metadata": {},
   "outputs": [
    {
     "name": "stdout",
     "output_type": "stream",
     "text": [
      "Generated Explanation:\n",
      "## Improved Explanation\n",
      "\n",
      "The provided bar graph illustrates the number of passengers over a 12-year period, from 1949 to 1960. The x-axis represents the years, while the y-axis denotes the number of passengers, ranging from 0 to 500 in increments of 100.\n",
      "\n",
      "### Key Features\n",
      "\n",
      "* The graph features blue bars for each year, accompanied by black vertical lines indicating the range of values. These vertical lines suggest the variability or uncertainty in the data for each year, although the exact nature (e.g., standard deviation, confidence interval) is not specified.\n",
      "* The y-axis is labeled \"passengers\" and ranges from 0 to 500 in increments of 100.\n",
      "* The x-axis lists the years from 1949 to 1960.\n",
      "\n",
      "### Trend Analysis\n",
      "\n",
      "* The graph exhibits a clear upward trend in the number of passengers over the 12-year period, with some fluctuations.\n",
      "* Starting from approximately 135 passengers in 1949, the number increases steadily, with periods of more rapid growth (e.g., from 1955 to 1957) and some stabilization (e.g., around 1957-1958), to around 490 passengers in 1960.\n",
      "* A closer examination reveals non-linear growth, with an acceleration in the increase of passengers, particularly noticeable between 1954 and 1957.\n",
      "\n",
      "### Notable Observations\n",
      "\n",
      "* The graph does not provide explicit values for each year, but based on the y-axis, we can estimate the number of passengers for each year. For instance:\n",
      "\t+ 1949: approximately 135 passengers\n",
      "\t+ 1955: around 280 passengers\n",
      "\t+ 1960: approximately 490 passengers\n",
      "* The range of values for each year, indicated by the black vertical lines, suggests some degree of variability in the data. This could imply fluctuations within the data collection process or uncertainty in the measurements.\n",
      "\n",
      "### Conclusion\n",
      "\n",
      "The graph effectively illustrates the growth in the number of passengers over the 12-year period, with a notable increase from 1949 to 1960. The use of blue bars and black vertical lines provides a clear visual representation of the data, allowing for easy interpretation of the trend. The observed non-linear growth and variability in the data highlight the importance of considering these factors when analyzing the trend. Overall, the graph presents a compelling visual representation of the increasing number of passengers over the years.\n"
     ]
    }
   ],
   "source": [
    "explanation = refine_plot_explanation(fig)\n",
    "print(\"Generated Explanation:\")\n",
    "print(explanation)"
   ]
  }
 ],
 "metadata": {
  "kernelspec": {
   "display_name": "venv",
   "language": "python",
   "name": "python3"
  },
  "language_info": {
   "codemirror_mode": {
    "name": "ipython",
    "version": 3
   },
   "file_extension": ".py",
   "mimetype": "text/x-python",
   "name": "python",
   "nbconvert_exporter": "python",
   "pygments_lexer": "ipython3",
   "version": "3.13.1"
  }
 },
 "nbformat": 4,
 "nbformat_minor": 2
}
