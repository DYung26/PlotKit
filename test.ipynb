{
 "cells": [
  {
   "cell_type": "code",
   "execution_count": 1,
   "metadata": {},
   "outputs": [],
   "source": [
    "# import sys\n",
    "# from pathlib import Path\n",
    "# root_dir = Path().resolve().parent  # goes one level up from `test/`\n",
    "# sys.path.insert(0, str(root_dir))"
   ]
  },
  {
   "cell_type": "code",
   "execution_count": 1,
   "metadata": {},
   "outputs": [],
   "source": [
    "import sys\n",
    "import os\n",
    "import pandas as pd\n",
    "import matplotlib.pyplot as plt\n",
    "import seaborn as sns\n",
    "from plotsense import refine_plot_explanation,  recommend_visualizations\n"
   ]
  },
  {
   "cell_type": "code",
   "execution_count": 3,
   "metadata": {},
   "outputs": [],
   "source": [
    "# from plotsense.visual_suggestion.Visual_suggestion_v2 import recommend_visualizations\n",
    "# from plotsense.explanations.explanationsv2 import refine_plot_explanation\n",
    "#from plotsense.plot_generator.altoplot import generate_plot"
   ]
  },
  {
   "cell_type": "code",
   "execution_count": 2,
   "metadata": {},
   "outputs": [
    {
     "data": {
      "text/plain": [
       "['anagrams',\n",
       " 'anscombe',\n",
       " 'attention',\n",
       " 'brain_networks',\n",
       " 'car_crashes',\n",
       " 'diamonds',\n",
       " 'dots',\n",
       " 'dowjones',\n",
       " 'exercise',\n",
       " 'flights',\n",
       " 'fmri',\n",
       " 'geyser',\n",
       " 'glue',\n",
       " 'healthexp',\n",
       " 'iris',\n",
       " 'mpg',\n",
       " 'penguins',\n",
       " 'planets',\n",
       " 'seaice',\n",
       " 'taxis',\n",
       " 'tips',\n",
       " 'titanic']"
      ]
     },
     "execution_count": 2,
     "metadata": {},
     "output_type": "execute_result"
    }
   ],
   "source": [
    "sns.get_dataset_names()"
   ]
  },
  {
   "cell_type": "code",
   "execution_count": 3,
   "metadata": {},
   "outputs": [
    {
     "data": {
      "text/plain": [
       "Index(['survived', 'pclass', 'sex', 'age', 'sibsp', 'parch', 'fare',\n",
       "       'embarked', 'class', 'who', 'adult_male', 'deck', 'embark_town',\n",
       "       'alive', 'alone'],\n",
       "      dtype='object')"
      ]
     },
     "execution_count": 3,
     "metadata": {},
     "output_type": "execute_result"
    }
   ],
   "source": [
    "titanic = sns.load_dataset('titanic')\n",
    "titanic.columns"
   ]
  },
  {
   "cell_type": "code",
   "execution_count": 6,
   "metadata": {},
   "outputs": [
    {
     "data": {
      "text/html": [
       "<div>\n",
       "<style scoped>\n",
       "    .dataframe tbody tr th:only-of-type {\n",
       "        vertical-align: middle;\n",
       "    }\n",
       "\n",
       "    .dataframe tbody tr th {\n",
       "        vertical-align: top;\n",
       "    }\n",
       "\n",
       "    .dataframe thead th {\n",
       "        text-align: right;\n",
       "    }\n",
       "</style>\n",
       "<table border=\"1\" class=\"dataframe\">\n",
       "  <thead>\n",
       "    <tr style=\"text-align: right;\">\n",
       "      <th></th>\n",
       "      <th>plot_type</th>\n",
       "      <th>variables</th>\n",
       "      <th>rationale</th>\n",
       "      <th>ensemble_score</th>\n",
       "      <th>model_agreement</th>\n",
       "      <th>source_models</th>\n",
       "    </tr>\n",
       "  </thead>\n",
       "  <tbody>\n",
       "    <tr>\n",
       "      <th>0</th>\n",
       "      <td>histogram</td>\n",
       "      <td>fare</td>\n",
       "      <td>A histogram of fares can provide insight into ...</td>\n",
       "      <td>0.8</td>\n",
       "      <td>2</td>\n",
       "      <td>[llama-3.3-70b-versatile, llama3-70b-8192]</td>\n",
       "    </tr>\n",
       "    <tr>\n",
       "      <th>1</th>\n",
       "      <td>bar chart</td>\n",
       "      <td>survived, pclass</td>\n",
       "      <td>This bar chart will help us understand the sur...</td>\n",
       "      <td>0.5</td>\n",
       "      <td>1</td>\n",
       "      <td>[llama3-70b-8192]</td>\n",
       "    </tr>\n",
       "    <tr>\n",
       "      <th>2</th>\n",
       "      <td>scatter plot</td>\n",
       "      <td>age, fare</td>\n",
       "      <td>This scatter plot will allow us to explore the...</td>\n",
       "      <td>0.5</td>\n",
       "      <td>1</td>\n",
       "      <td>[llama3-70b-8192]</td>\n",
       "    </tr>\n",
       "    <tr>\n",
       "      <th>3</th>\n",
       "      <td>stacked bar chart</td>\n",
       "      <td>sex, survived</td>\n",
       "      <td>This stacked bar chart will help us understand...</td>\n",
       "      <td>0.5</td>\n",
       "      <td>1</td>\n",
       "      <td>[llama3-70b-8192]</td>\n",
       "    </tr>\n",
       "    <tr>\n",
       "      <th>4</th>\n",
       "      <td>heatmap</td>\n",
       "      <td>embarked, class, survived</td>\n",
       "      <td>This heatmap will allow us to explore the rela...</td>\n",
       "      <td>0.5</td>\n",
       "      <td>1</td>\n",
       "      <td>[llama3-70b-8192]</td>\n",
       "    </tr>\n",
       "    <tr>\n",
       "      <th>5</th>\n",
       "      <td>bar</td>\n",
       "      <td>survived, sex</td>\n",
       "      <td>This visualization can reveal the difference i...</td>\n",
       "      <td>0.3</td>\n",
       "      <td>1</td>\n",
       "      <td>[llama-3.3-70b-versatile]</td>\n",
       "    </tr>\n",
       "    <tr>\n",
       "      <th>6</th>\n",
       "      <td>scatter</td>\n",
       "      <td>age, fare</td>\n",
       "      <td>This plot can help identify any correlations b...</td>\n",
       "      <td>0.3</td>\n",
       "      <td>1</td>\n",
       "      <td>[llama-3.3-70b-versatile]</td>\n",
       "    </tr>\n",
       "    <tr>\n",
       "      <th>7</th>\n",
       "      <td>boxplot</td>\n",
       "      <td>pclass, fare</td>\n",
       "      <td>This visualization can compare the distributio...</td>\n",
       "      <td>0.3</td>\n",
       "      <td>1</td>\n",
       "      <td>[llama-3.3-70b-versatile]</td>\n",
       "    </tr>\n",
       "    <tr>\n",
       "      <th>8</th>\n",
       "      <td>stacked bar</td>\n",
       "      <td>survived, embarked, class</td>\n",
       "      <td>This plot can show the survival rates of passe...</td>\n",
       "      <td>0.3</td>\n",
       "      <td>1</td>\n",
       "      <td>[llama-3.3-70b-versatile]</td>\n",
       "    </tr>\n",
       "    <tr>\n",
       "      <th>9</th>\n",
       "      <td>bar chart</td>\n",
       "      <td>adult_male, survived</td>\n",
       "      <td>This visualization helps to reveal the relatio...</td>\n",
       "      <td>0.2</td>\n",
       "      <td>1</td>\n",
       "      <td>[llama3-8b-8192]</td>\n",
       "    </tr>\n",
       "  </tbody>\n",
       "</table>\n",
       "</div>"
      ],
      "text/plain": [
       "           plot_type                  variables  \\\n",
       "0          histogram                       fare   \n",
       "1          bar chart           survived, pclass   \n",
       "2       scatter plot                  age, fare   \n",
       "3  stacked bar chart              sex, survived   \n",
       "4            heatmap  embarked, class, survived   \n",
       "5                bar              survived, sex   \n",
       "6            scatter                  age, fare   \n",
       "7            boxplot               pclass, fare   \n",
       "8        stacked bar  survived, embarked, class   \n",
       "9          bar chart       adult_male, survived   \n",
       "\n",
       "                                           rationale  ensemble_score  \\\n",
       "0  A histogram of fares can provide insight into ...             0.8   \n",
       "1  This bar chart will help us understand the sur...             0.5   \n",
       "2  This scatter plot will allow us to explore the...             0.5   \n",
       "3  This stacked bar chart will help us understand...             0.5   \n",
       "4  This heatmap will allow us to explore the rela...             0.5   \n",
       "5  This visualization can reveal the difference i...             0.3   \n",
       "6  This plot can help identify any correlations b...             0.3   \n",
       "7  This visualization can compare the distributio...             0.3   \n",
       "8  This plot can show the survival rates of passe...             0.3   \n",
       "9  This visualization helps to reveal the relatio...             0.2   \n",
       "\n",
       "   model_agreement                               source_models  \n",
       "0                2  [llama-3.3-70b-versatile, llama3-70b-8192]  \n",
       "1                1                           [llama3-70b-8192]  \n",
       "2                1                           [llama3-70b-8192]  \n",
       "3                1                           [llama3-70b-8192]  \n",
       "4                1                           [llama3-70b-8192]  \n",
       "5                1                   [llama-3.3-70b-versatile]  \n",
       "6                1                   [llama-3.3-70b-versatile]  \n",
       "7                1                   [llama-3.3-70b-versatile]  \n",
       "8                1                   [llama-3.3-70b-versatile]  \n",
       "9                1                            [llama3-8b-8192]  "
      ]
     },
     "execution_count": 6,
     "metadata": {},
     "output_type": "execute_result"
    }
   ],
   "source": [
    "recommendation = recommend_visualizations(titanic, n=10)\n",
    "recommendation"
   ]
  },
  {
   "cell_type": "markdown",
   "metadata": {},
   "source": []
  },
  {
   "cell_type": "code",
   "execution_count": null,
   "metadata": {},
   "outputs": [],
   "source": [
    "fig, ax = plt.subplots(1, 1, figsize=(10, 5))"
   ]
  },
  {
   "cell_type": "code",
   "execution_count": 9,
   "metadata": {},
   "outputs": [
    {
     "name": "stderr",
     "output_type": "stream",
     "text": [
      "C:\\Users\\chime\\AppData\\Local\\Temp\\ipykernel_21208\\1429576890.py:1: FutureWarning: Series.__getitem__ treating keys as positions is deprecated. In a future version, integer keys will always be treated as labels (consistent with DataFrame behavior). To access a value by position, use `ser.iloc[pos]`\n",
      "  recommendation.iloc[5][0]\n"
     ]
    },
    {
     "data": {
      "text/plain": [
       "'bar'"
      ]
     },
     "execution_count": 9,
     "metadata": {},
     "output_type": "execute_result"
    }
   ],
   "source": [
    "recommendation.iloc[5][0]"
   ]
  },
  {
   "cell_type": "code",
   "execution_count": null,
   "metadata": {},
   "outputs": [],
   "source": [
    "def quick_plot(plot_type, *args, color=None, title=None, xlabel=None, ylabel=None, **kwargs):\n",
    "    fig = plt.figure(figsize=(10, 5))\n",
    "    ax = fig.add_subplot()\n",
    "\n",
    "    # Dynamically call the method from ax (e.g., ax.bar, ax.plot, ax.scatter)\n",
    "    try:\n",
    "        plot_func = getattr(ax, plot_type)\n",
    "    except AttributeError:\n",
    "        raise ValueError(f\"Plot type '{plot_type}' is not supported by matplotlib Axes.\")\n",
    "\n",
    "    plot_func(*args, color=color, **kwargs)\n",
    "\n",
    "    if title:\n",
    "        ax.set_title(title)\n",
    "    if xlabel:\n",
    "        ax.set_xlabel(xlabel)\n",
    "    if ylabel:\n",
    "        ax.set_ylabel(ylabel)\n",
    "\n",
    "    plt.xticks(rotation=45)\n",
    "    plt.tight_layout()\n",
    "    plt.show()\n",
    "\n",
    "    return fig\n"
   ]
  },
  {
   "cell_type": "code",
   "execution_count": null,
   "metadata": {},
   "outputs": [],
   "source": [
    "func = recommendation.iloc[5][0]\n",
    "func"
   ]
  },
  {
   "cell_type": "code",
   "execution_count": null,
   "metadata": {},
   "outputs": [],
   "source": [
    "quick_plot(data=titanic, recommendation.iloc[5], color='skyblue', title='Passenger Class Distribution', x='survived', height='sex')"
   ]
  },
  {
   "cell_type": "code",
   "execution_count": 24,
   "metadata": {},
   "outputs": [
    {
     "data": {
      "image/png": "[encoded data removed]",
      "text/plain": [
       "<Figure size 1000x500 with 1 Axes>"
      ]
     },
     "metadata": {},
     "output_type": "display_data"
    },
    {
     "data": {
      "image/png": "[encoded data removed]",
      "text/plain": [
       "<Figure size 1000x500 with 1 Axes>"
      ]
     },
     "execution_count": 24,
     "metadata": {},
     "output_type": "execute_result"
    }
   ],
   "source": [
    "quick_plot(func, color='skyblue', title='Passenger Class Distribution', x='survived', height='sex',data=titanic)"
   ]
  },
  {
   "cell_type": "code",
   "execution_count": null,
   "metadata": {},
   "outputs": [
    {
     "name": "stderr",
     "output_type": "stream",
     "text": [
      "C:\\Users\\chime\\AppData\\Local\\Temp\\ipykernel_21208\\3021823085.py:1: FutureWarning: Series.__getitem__ treating keys as positions is deprecated. In a future version, integer keys will always be treated as labels (consistent with DataFrame behavior). To access a value by position, use `ser.iloc[pos]`\n",
      "  func = recommendation.iloc[5][0]\n"
     ]
    },
    {
     "data": {
      "text/plain": [
       "'bar'"
      ]
     },
     "execution_count": 11,
     "metadata": {},
     "output_type": "execute_result"
    }
   ],
   "source": []
  },
  {
   "cell_type": "code",
   "execution_count": 7,
   "metadata": {},
   "outputs": [
    {
     "data": {
      "text/html": [
       "<div>\n",
       "<style scoped>\n",
       "    .dataframe tbody tr th:only-of-type {\n",
       "        vertical-align: middle;\n",
       "    }\n",
       "\n",
       "    .dataframe tbody tr th {\n",
       "        vertical-align: top;\n",
       "    }\n",
       "\n",
       "    .dataframe thead th {\n",
       "        text-align: right;\n",
       "    }\n",
       "</style>\n",
       "<table border=\"1\" class=\"dataframe\">\n",
       "  <thead>\n",
       "    <tr style=\"text-align: right;\">\n",
       "      <th></th>\n",
       "      <th>plot_type</th>\n",
       "      <th>variables</th>\n",
       "      <th>rationale</th>\n",
       "      <th>ensemble_score</th>\n",
       "      <th>model_agreement</th>\n",
       "      <th>source_models</th>\n",
       "    </tr>\n",
       "  </thead>\n",
       "  <tbody>\n",
       "    <tr>\n",
       "      <th>0</th>\n",
       "      <td>box plot</td>\n",
       "      <td>fare, pclass</td>\n",
       "      <td>Box plots can effectively compare the distribu...</td>\n",
       "      <td>1.00</td>\n",
       "      <td>2</td>\n",
       "      <td>[llama-3.3-70b-versatile, llama3-70b-8192]</td>\n",
       "    </tr>\n",
       "    <tr>\n",
       "      <th>1</th>\n",
       "      <td>scatter plot</td>\n",
       "      <td>age, fare</td>\n",
       "      <td>A scatter plot can help visualize the relation...</td>\n",
       "      <td>0.54</td>\n",
       "      <td>2</td>\n",
       "      <td>[llama-3.3-70b-versatile, llama3-70b-8192]</td>\n",
       "    </tr>\n",
       "    <tr>\n",
       "      <th>2</th>\n",
       "      <td>histogram</td>\n",
       "      <td>age, fare</td>\n",
       "      <td>To understand the distribution of age and fare...</td>\n",
       "      <td>0.46</td>\n",
       "      <td>1</td>\n",
       "      <td>[llama-3.3-70b-versatile]</td>\n",
       "    </tr>\n",
       "    <tr>\n",
       "      <th>3</th>\n",
       "      <td>bar chart</td>\n",
       "      <td>pclass</td>\n",
       "      <td>A bar chart can display the count or proportio...</td>\n",
       "      <td>0.31</td>\n",
       "      <td>2</td>\n",
       "      <td>[llama-3.3-70b-versatile, llama3-70b-8192]</td>\n",
       "    </tr>\n",
       "    <tr>\n",
       "      <th>4</th>\n",
       "      <td>heatmap</td>\n",
       "      <td>pclass, fare, age</td>\n",
       "      <td>A heatmap can help visualize the relationships...</td>\n",
       "      <td>0.31</td>\n",
       "      <td>1</td>\n",
       "      <td>[llama3-8b-8192]</td>\n",
       "    </tr>\n",
       "    <tr>\n",
       "      <th>5</th>\n",
       "      <td>histogram</td>\n",
       "      <td>age</td>\n",
       "      <td>A histogram will provide a detailed view of th...</td>\n",
       "      <td>0.26</td>\n",
       "      <td>1</td>\n",
       "      <td>[llama3-70b-8192]</td>\n",
       "    </tr>\n",
       "    <tr>\n",
       "      <th>6</th>\n",
       "      <td>violin plot</td>\n",
       "      <td>fare, pclass</td>\n",
       "      <td>A violin plot will provide a more detailed vie...</td>\n",
       "      <td>0.15</td>\n",
       "      <td>1</td>\n",
       "      <td>[llama3-70b-8192]</td>\n",
       "    </tr>\n",
       "    <tr>\n",
       "      <th>7</th>\n",
       "      <td>violin plot</td>\n",
       "      <td>fare, pclass, age</td>\n",
       "      <td>Violin plots can combine the features of box p...</td>\n",
       "      <td>0.09</td>\n",
       "      <td>1</td>\n",
       "      <td>[llama-3.3-70b-versatile]</td>\n",
       "    </tr>\n",
       "  </tbody>\n",
       "</table>\n",
       "</div>"
      ],
      "text/plain": [
       "      plot_type          variables  \\\n",
       "0      box plot       fare, pclass   \n",
       "1  scatter plot          age, fare   \n",
       "2     histogram          age, fare   \n",
       "3     bar chart             pclass   \n",
       "4       heatmap  pclass, fare, age   \n",
       "5     histogram                age   \n",
       "6   violin plot       fare, pclass   \n",
       "7   violin plot  fare, pclass, age   \n",
       "\n",
       "                                           rationale  ensemble_score  \\\n",
       "0  Box plots can effectively compare the distribu...            1.00   \n",
       "1  A scatter plot can help visualize the relation...            0.54   \n",
       "2  To understand the distribution of age and fare...            0.46   \n",
       "3  A bar chart can display the count or proportio...            0.31   \n",
       "4  A heatmap can help visualize the relationships...            0.31   \n",
       "5  A histogram will provide a detailed view of th...            0.26   \n",
       "6  A violin plot will provide a more detailed vie...            0.15   \n",
       "7  Violin plots can combine the features of box p...            0.09   \n",
       "\n",
       "   model_agreement                               source_models  \n",
       "0                2  [llama-3.3-70b-versatile, llama3-70b-8192]  \n",
       "1                2  [llama-3.3-70b-versatile, llama3-70b-8192]  \n",
       "2                1                   [llama-3.3-70b-versatile]  \n",
       "3                2  [llama-3.3-70b-versatile, llama3-70b-8192]  \n",
       "4                1                            [llama3-8b-8192]  \n",
       "5                1                           [llama3-70b-8192]  \n",
       "6                1                           [llama3-70b-8192]  \n",
       "7                1                   [llama-3.3-70b-versatile]  "
      ]
     },
     "execution_count": 7,
     "metadata": {},
     "output_type": "execute_result"
    }
   ],
   "source": [
    "recommendation = recommend_visualizations(titanic[['age', 'fare','pclass']])\n",
    "recommendation"
   ]
  },
  {
   "cell_type": "code",
   "execution_count": 8,
   "metadata": {},
   "outputs": [
    {
     "ename": "NameError",
     "evalue": "name 'dd' is not defined",
     "output_type": "error",
     "traceback": [
      "\u001b[31m---------------------------------------------------------------------------\u001b[39m",
      "\u001b[31mNameError\u001b[39m                                 Traceback (most recent call last)",
      "\u001b[36mCell\u001b[39m\u001b[36m \u001b[39m\u001b[32mIn[8]\u001b[39m\u001b[32m, line 1\u001b[39m\n\u001b[32m----> \u001b[39m\u001b[32m1\u001b[39m \u001b[43mdd\u001b[49m\n",
      "\u001b[31mNameError\u001b[39m: name 'dd' is not defined"
     ]
    }
   ],
   "source": [
    "dd"
   ]
  },
  {
   "cell_type": "code",
   "execution_count": null,
   "metadata": {},
   "outputs": [],
   "source": [
    "recommendation.iloc[0]"
   ]
  },
  {
   "cell_type": "code",
   "execution_count": null,
   "metadata": {},
   "outputs": [],
   "source": [
    "#bar chart\n",
    "variable_name = generate_plot(titanic, recommendation[0])\n",
    "#bar chart\n",
    "variable_name = generate_plot(titanic, recommendation[0], x='x', y_col='y')\n",
    "\n",
    "\n",
    "#parallel plot\n",
    "variable_name = generate_plot(titanic, recommendation[1])\n",
    "#scatter plot\n",
    "variable_name = generate_plot(titanic, recommendation[2])"
   ]
  },
  {
   "cell_type": "code",
   "execution_count": null,
   "metadata": {},
   "outputs": [],
   "source": [
    "# fig, ax = plt.subplots()\n",
    "# sns.barplot(data=titanic, x='survived', y='pclass', ax=ax)"
   ]
  },
  {
   "cell_type": "code",
   "execution_count": null,
   "metadata": {},
   "outputs": [],
   "source": [
    "explanation = refine_plot_explanation(plot_1)\n",
    "print(\"Generated Explanation:\")\n",
    "print(explanation)"
   ]
  }
 ],
 "metadata": {
  "kernelspec": {
   "display_name": "venv",
   "language": "python",
   "name": "python3"
  },
  "language_info": {
   "codemirror_mode": {
    "name": "ipython",
    "version": 3
   },
   "file_extension": ".py",
   "mimetype": "text/x-python",
   "name": "python",
   "nbconvert_exporter": "python",
   "pygments_lexer": "ipython3",
   "version": "3.13.1"
  }
 },
 "nbformat": 4,
 "nbformat_minor": 2
}
