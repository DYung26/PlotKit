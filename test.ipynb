{
 "cells": [
  {
   "cell_type": "code",
   "execution_count": 1,
   "metadata": {},
   "outputs": [],
   "source": [
    "# import sys\n",
    "# from pathlib import Path\n",
    "# root_dir = Path().resolve().parent  # goes one level up from `test/`\n",
    "# sys.path.insert(0, str(root_dir))"
   ]
  },
  {
   "cell_type": "code",
   "execution_count": 2,
   "metadata": {},
   "outputs": [],
   "source": [
    "import sys\n",
    "import os\n",
    "import pandas as pd\n",
    "import matplotlib.pyplot as plt\n",
    "import seaborn as sns\n",
    "from plotsense import  recommender, plotgen, explainer\n"
   ]
  },
  {
   "cell_type": "code",
   "execution_count": 3,
   "metadata": {},
   "outputs": [
    {
     "data": {
      "text/plain": [
       "['anagrams',\n",
       " 'anscombe',\n",
       " 'attention',\n",
       " 'brain_networks',\n",
       " 'car_crashes',\n",
       " 'diamonds',\n",
       " 'dots',\n",
       " 'dowjones',\n",
       " 'exercise',\n",
       " 'flights',\n",
       " 'fmri',\n",
       " 'geyser',\n",
       " 'glue',\n",
       " 'healthexp',\n",
       " 'iris',\n",
       " 'mpg',\n",
       " 'penguins',\n",
       " 'planets',\n",
       " 'seaice',\n",
       " 'taxis',\n",
       " 'tips',\n",
       " 'titanic']"
      ]
     },
     "execution_count": 3,
     "metadata": {},
     "output_type": "execute_result"
    }
   ],
   "source": [
    "sns.get_dataset_names()"
   ]
  },
  {
   "cell_type": "code",
   "execution_count": 4,
   "metadata": {},
   "outputs": [],
   "source": [
    "titanic = sns.load_dataset(\"titanic\")"
   ]
  },
  {
   "cell_type": "code",
   "execution_count": 5,
   "metadata": {},
   "outputs": [
    {
     "data": {
      "text/plain": [
       "<Axes: title={'center': 'Titanic Dataset'}, xlabel='age', ylabel='Count'>"
      ]
     },
     "execution_count": 5,
     "metadata": {},
     "output_type": "execute_result"
    },
    {
     "data": {
      "image/png": "[encoded data removed]",
      "text/plain": [
       "<Figure size 640x480 with 1 Axes>"
      ]
     },
     "metadata": {},
     "output_type": "display_data"
    }
   ],
   "source": [
    "fig1 = plt.figure()\n",
    "ax1 = fig1.add_subplot(111) \n",
    "ax1.set_title(\"Titanic Dataset\")\n",
    "sns.histplot(data=titanic, x=\"age\", ax=ax1) \n"
   ]
  },
  {
   "cell_type": "code",
   "execution_count": 6,
   "metadata": {},
   "outputs": [],
   "source": [
    "data = r\"PLD Data for Hackathon.xlsx\""
   ]
  },
  {
   "cell_type": "code",
   "execution_count": 7,
   "metadata": {},
   "outputs": [],
   "source": [
    "hack = pd.read_excel(data, nrows=500)\n"
   ]
  },
  {
   "cell_type": "code",
   "execution_count": 8,
   "metadata": {},
   "outputs": [
    {
     "data": {
      "text/html": [
       "<div>\n",
       "<style scoped>\n",
       "    .dataframe tbody tr th:only-of-type {\n",
       "        vertical-align: middle;\n",
       "    }\n",
       "\n",
       "    .dataframe tbody tr th {\n",
       "        vertical-align: top;\n",
       "    }\n",
       "\n",
       "    .dataframe thead th {\n",
       "        text-align: right;\n",
       "    }\n",
       "</style>\n",
       "<table border=\"1\" class=\"dataframe\">\n",
       "  <thead>\n",
       "    <tr style=\"text-align: right;\">\n",
       "      <th></th>\n",
       "      <th>Count of id</th>\n",
       "      <th>id</th>\n",
       "      <th>lpa_name</th>\n",
       "      <th>status</th>\n",
       "      <th>valid_date</th>\n",
       "      <th>decision</th>\n",
       "      <th>decision_date</th>\n",
       "      <th>total_gained_units</th>\n",
       "      <th>total_lost_units</th>\n",
       "      <th>Total Net Units</th>\n",
       "      <th>...</th>\n",
       "      <th>remaining_gained_units</th>\n",
       "      <th>remaining_lost_units</th>\n",
       "      <th>actual_commencement_date</th>\n",
       "      <th>actual_completion_date</th>\n",
       "      <th>application_type</th>\n",
       "      <th>application_type_full</th>\n",
       "      <th>description</th>\n",
       "      <th>appeal_decision</th>\n",
       "      <th>appeal_decision_date</th>\n",
       "      <th>development_type</th>\n",
       "    </tr>\n",
       "  </thead>\n",
       "  <tbody>\n",
       "    <tr>\n",
       "      <th>0</th>\n",
       "      <td>1</td>\n",
       "      <td>Wandsworth-2024_4282</td>\n",
       "      <td>Wandsworth</td>\n",
       "      <td>Approved</td>\n",
       "      <td>2024-12-06</td>\n",
       "      <td>Approved</td>\n",
       "      <td>2025-04-22</td>\n",
       "      <td>8</td>\n",
       "      <td>0</td>\n",
       "      <td>8</td>\n",
       "      <td>...</td>\n",
       "      <td>8</td>\n",
       "      <td>0</td>\n",
       "      <td>NaT</td>\n",
       "      <td>NaN</td>\n",
       "      <td>All Other</td>\n",
       "      <td>Full planning permission</td>\n",
       "      <td>Alterations including erection of roof extensi...</td>\n",
       "      <td>NaN</td>\n",
       "      <td>NaT</td>\n",
       "      <td>Minor dwellings</td>\n",
       "    </tr>\n",
       "    <tr>\n",
       "      <th>1</th>\n",
       "      <td>1</td>\n",
       "      <td>Barnet-25_0634_FUL</td>\n",
       "      <td>Barnet</td>\n",
       "      <td>Refused</td>\n",
       "      <td>2025-02-21</td>\n",
       "      <td>Refused</td>\n",
       "      <td>2025-04-17</td>\n",
       "      <td>2</td>\n",
       "      <td>2</td>\n",
       "      <td>0</td>\n",
       "      <td>...</td>\n",
       "      <td>2</td>\n",
       "      <td>2</td>\n",
       "      <td>NaT</td>\n",
       "      <td>NaN</td>\n",
       "      <td>All Other</td>\n",
       "      <td>Full planning permission</td>\n",
       "      <td>Two storey side/rear extension with pitched ro...</td>\n",
       "      <td>NaN</td>\n",
       "      <td>NaT</td>\n",
       "      <td>NaN</td>\n",
       "    </tr>\n",
       "    <tr>\n",
       "      <th>2</th>\n",
       "      <td>1</td>\n",
       "      <td>Barnet-25_0702_FUL</td>\n",
       "      <td>Barnet</td>\n",
       "      <td>Refused</td>\n",
       "      <td>2025-02-20</td>\n",
       "      <td>Refused</td>\n",
       "      <td>2025-04-17</td>\n",
       "      <td>1</td>\n",
       "      <td>0</td>\n",
       "      <td>1</td>\n",
       "      <td>...</td>\n",
       "      <td>1</td>\n",
       "      <td>0</td>\n",
       "      <td>NaT</td>\n",
       "      <td>NaN</td>\n",
       "      <td>All Other</td>\n",
       "      <td>Full planning permission</td>\n",
       "      <td>Erection of a single storey dwelling. Associat...</td>\n",
       "      <td>NaN</td>\n",
       "      <td>NaT</td>\n",
       "      <td>NaN</td>\n",
       "    </tr>\n",
       "    <tr>\n",
       "      <th>3</th>\n",
       "      <td>1</td>\n",
       "      <td>Bexley-25_00319_PRIOR</td>\n",
       "      <td>Bexley</td>\n",
       "      <td>Refused</td>\n",
       "      <td>2025-02-21</td>\n",
       "      <td>Refused</td>\n",
       "      <td>2025-04-17</td>\n",
       "      <td>2</td>\n",
       "      <td>0</td>\n",
       "      <td>2</td>\n",
       "      <td>...</td>\n",
       "      <td>2</td>\n",
       "      <td>0</td>\n",
       "      <td>NaT</td>\n",
       "      <td>NaN</td>\n",
       "      <td>Prior Approval</td>\n",
       "      <td>Prior Approval: Change of use from Commercial,...</td>\n",
       "      <td>Notification of Prior Approval for change of u...</td>\n",
       "      <td>NaN</td>\n",
       "      <td>NaT</td>\n",
       "      <td>NaN</td>\n",
       "    </tr>\n",
       "    <tr>\n",
       "      <th>4</th>\n",
       "      <td>1</td>\n",
       "      <td>Bexley-25_00330_FUL</td>\n",
       "      <td>Bexley</td>\n",
       "      <td>Approved</td>\n",
       "      <td>2025-02-20</td>\n",
       "      <td>Approved</td>\n",
       "      <td>2025-04-17</td>\n",
       "      <td>0</td>\n",
       "      <td>1</td>\n",
       "      <td>-1</td>\n",
       "      <td>...</td>\n",
       "      <td>0</td>\n",
       "      <td>1</td>\n",
       "      <td>NaT</td>\n",
       "      <td>NaN</td>\n",
       "      <td>All Other</td>\n",
       "      <td>Full planning permission</td>\n",
       "      <td>Change of Use from Class C3 (Residential Dwell...</td>\n",
       "      <td>NaN</td>\n",
       "      <td>NaT</td>\n",
       "      <td>NaN</td>\n",
       "    </tr>\n",
       "  </tbody>\n",
       "</table>\n",
       "<p>5 rows × 24 columns</p>\n",
       "</div>"
      ],
      "text/plain": [
       "   Count of id                     id    lpa_name    status valid_date  \\\n",
       "0            1   Wandsworth-2024_4282  Wandsworth  Approved 2024-12-06   \n",
       "1            1     Barnet-25_0634_FUL      Barnet   Refused 2025-02-21   \n",
       "2            1     Barnet-25_0702_FUL      Barnet   Refused 2025-02-20   \n",
       "3            1  Bexley-25_00319_PRIOR      Bexley   Refused 2025-02-21   \n",
       "4            1    Bexley-25_00330_FUL      Bexley  Approved 2025-02-20   \n",
       "\n",
       "   decision decision_date  total_gained_units  total_lost_units  \\\n",
       "0  Approved    2025-04-22                   8                 0   \n",
       "1   Refused    2025-04-17                   2                 2   \n",
       "2   Refused    2025-04-17                   1                 0   \n",
       "3   Refused    2025-04-17                   2                 0   \n",
       "4  Approved    2025-04-17                   0                 1   \n",
       "\n",
       "   Total Net Units  ...  remaining_gained_units  remaining_lost_units  \\\n",
       "0                8  ...                       8                     0   \n",
       "1                0  ...                       2                     2   \n",
       "2                1  ...                       1                     0   \n",
       "3                2  ...                       2                     0   \n",
       "4               -1  ...                       0                     1   \n",
       "\n",
       "   actual_commencement_date  actual_completion_date  application_type  \\\n",
       "0                       NaT                     NaN         All Other   \n",
       "1                       NaT                     NaN         All Other   \n",
       "2                       NaT                     NaN         All Other   \n",
       "3                       NaT                     NaN    Prior Approval   \n",
       "4                       NaT                     NaN         All Other   \n",
       "\n",
       "                               application_type_full  \\\n",
       "0                           Full planning permission   \n",
       "1                           Full planning permission   \n",
       "2                           Full planning permission   \n",
       "3  Prior Approval: Change of use from Commercial,...   \n",
       "4                           Full planning permission   \n",
       "\n",
       "                                         description  appeal_decision  \\\n",
       "0  Alterations including erection of roof extensi...              NaN   \n",
       "1  Two storey side/rear extension with pitched ro...              NaN   \n",
       "2  Erection of a single storey dwelling. Associat...              NaN   \n",
       "3  Notification of Prior Approval for change of u...              NaN   \n",
       "4  Change of Use from Class C3 (Residential Dwell...              NaN   \n",
       "\n",
       "  appeal_decision_date development_type  \n",
       "0                  NaT  Minor dwellings  \n",
       "1                  NaT              NaN  \n",
       "2                  NaT              NaN  \n",
       "3                  NaT              NaN  \n",
       "4                  NaT              NaN  \n",
       "\n",
       "[5 rows x 24 columns]"
      ]
     },
     "execution_count": 8,
     "metadata": {},
     "output_type": "execute_result"
    }
   ],
   "source": [
    "hack.head()"
   ]
  },
  {
   "cell_type": "code",
   "execution_count": 9,
   "metadata": {},
   "outputs": [
    {
     "data": {
      "text/html": [
       "<div>\n",
       "<style scoped>\n",
       "    .dataframe tbody tr th:only-of-type {\n",
       "        vertical-align: middle;\n",
       "    }\n",
       "\n",
       "    .dataframe tbody tr th {\n",
       "        vertical-align: top;\n",
       "    }\n",
       "\n",
       "    .dataframe thead th {\n",
       "        text-align: right;\n",
       "    }\n",
       "</style>\n",
       "<table border=\"1\" class=\"dataframe\">\n",
       "  <thead>\n",
       "    <tr style=\"text-align: right;\">\n",
       "      <th></th>\n",
       "      <th>plot_type</th>\n",
       "      <th>variables</th>\n",
       "      <th>ensemble_score</th>\n",
       "      <th>model_agreement</th>\n",
       "      <th>source_models</th>\n",
       "    </tr>\n",
       "  </thead>\n",
       "  <tbody>\n",
       "    <tr>\n",
       "      <th>0</th>\n",
       "      <td>hist</td>\n",
       "      <td>total_gained_units</td>\n",
       "      <td>0.50</td>\n",
       "      <td>2</td>\n",
       "      <td>[llama3-70b-8192, llama-3.3-70b-versatile]</td>\n",
       "    </tr>\n",
       "    <tr>\n",
       "      <th>1</th>\n",
       "      <td>boxplot</td>\n",
       "      <td>total_gained_units, application_type</td>\n",
       "      <td>0.50</td>\n",
       "      <td>2</td>\n",
       "      <td>[llama3-70b-8192, llama-3.3-70b-versatile]</td>\n",
       "    </tr>\n",
       "    <tr>\n",
       "      <th>2</th>\n",
       "      <td>line</td>\n",
       "      <td>valid_date, Total Net Units</td>\n",
       "      <td>0.50</td>\n",
       "      <td>2</td>\n",
       "      <td>[llama3-70b-8192, llama-3.3-70b-versatile]</td>\n",
       "    </tr>\n",
       "    <tr>\n",
       "      <th>3</th>\n",
       "      <td>scatter</td>\n",
       "      <td>Remaining Units Net, total_gained_units</td>\n",
       "      <td>0.25</td>\n",
       "      <td>1</td>\n",
       "      <td>[llama3-70b-8192]</td>\n",
       "    </tr>\n",
       "    <tr>\n",
       "      <th>4</th>\n",
       "      <td>bar</td>\n",
       "      <td>total_lost_units, development_type</td>\n",
       "      <td>0.25</td>\n",
       "      <td>1</td>\n",
       "      <td>[llama3-70b-8192]</td>\n",
       "    </tr>\n",
       "  </tbody>\n",
       "</table>\n",
       "</div>"
      ],
      "text/plain": [
       "  plot_type                                variables  ensemble_score  \\\n",
       "0      hist                       total_gained_units            0.50   \n",
       "1   boxplot     total_gained_units, application_type            0.50   \n",
       "2      line              valid_date, Total Net Units            0.50   \n",
       "3   scatter  Remaining Units Net, total_gained_units            0.25   \n",
       "4       bar       total_lost_units, development_type            0.25   \n",
       "\n",
       "   model_agreement                               source_models  \n",
       "0                2  [llama3-70b-8192, llama-3.3-70b-versatile]  \n",
       "1                2  [llama3-70b-8192, llama-3.3-70b-versatile]  \n",
       "2                2  [llama3-70b-8192, llama-3.3-70b-versatile]  \n",
       "3                1                           [llama3-70b-8192]  \n",
       "4                1                           [llama3-70b-8192]  "
      ]
     },
     "execution_count": 9,
     "metadata": {},
     "output_type": "execute_result"
    }
   ],
   "source": [
    "recommendation = recommender(hack)\n",
    "recommendation"
   ]
  },
  {
   "cell_type": "code",
   "execution_count": 10,
   "metadata": {},
   "outputs": [
    {
     "data": {
      "image/png": "[encoded data removed]",
      "text/plain": [
       "<Figure size 1000x600 with 1 Axes>"
      ]
     },
     "metadata": {},
     "output_type": "display_data"
    }
   ],
   "source": [
    "fig=plotgen(hack, recommendation.iloc[1])"
   ]
  },
  {
   "cell_type": "code",
   "execution_count": 11,
   "metadata": {},
   "outputs": [
    {
     "data": {
      "image/png": "[encoded data removed]",
      "text/plain": [
       "<Figure size 1000x600 with 1 Axes>"
      ]
     },
     "metadata": {},
     "output_type": "display_data"
    }
   ],
   "source": [
    "fig = plotgen(hack, 1, recommendation)"
   ]
  },
  {
   "cell_type": "code",
   "execution_count": 12,
   "metadata": {},
   "outputs": [
    {
     "name": "stdout",
     "output_type": "stream",
     "text": [
      "Generated Explanation:\n",
      "## Overview\n",
      "The provided histogram offers a visual representation of the age distribution within the Titanic dataset, which is a well-known collection of data regarding the passengers and crew of the RMS Titanic. The histogram effectively organizes the data into specified age ranges, providing a clear visual representation of the distribution. The majority of individuals in the dataset are between 15 and 40 years old, with a peak frequency around 20-25 years old. The histogram's blue bars provide a clear and concise visual representation of the age distribution.\n",
      "\n",
      "## Key Features\n",
      "* **X-axis:** The x-axis represents the age of individuals, ranging from 0 to 80 years, divided into bins of exactly 5 years each.\n",
      "* **Y-axis:** The y-axis represents the count or frequency of individuals within each age group, ranging from 0 to 100.\n",
      "* **Bars:** The histogram consists of blue bars, each representing a specific age range. The height of each bar corresponds to the count of individuals within that age range.\n",
      "* **Bin Size:** The bin size is exactly 5 years, allowing for a detailed examination of the age distribution.\n",
      "\n",
      "## Insights and Patterns\n",
      "* **Age Distribution:** The majority of individuals in the Titanic dataset are between 15 and 40 years old, with a peak frequency around 20-25 years old. This suggests that the Titanic's passenger demographic was primarily composed of young adults.\n",
      "* **Frequency:** The highest frequency is approximately 95 individuals around the age of 25.\n",
      "* **Skewness:** The distribution is slightly skewed to the right, with a skewness coefficient of 0.47. This indicates a longer tail towards older ages, suggesting that there are more older individuals in the dataset than would be expected in a perfectly normal distribution. The positive skewness coefficient implies that the distribution is not symmetrical, with a greater proportion of older passengers.\n",
      "* **Summary Statistics:**\n",
      " * Mean age: 29.7 years\n",
      " * Median age: 28 years\n",
      " * Standard deviation: 14.5 years\n",
      "* **Notable Peaks and Troughs:**\n",
      " * A significant peak is observed around 20-25 years old, corresponding to young adults.\n",
      " * Lower frequencies are noted for individuals under 10 years old and above 60 years old, indicating fewer children and elderly passengers.\n",
      "\n",
      "## Conclusion\n",
      "The histogram provides valuable insights into the age distribution of individuals in the Titanic dataset, suggesting that most passengers were young adults with a peak in the 20-25 age range. The skewness indicates a higher representation of younger individuals, which is consistent with the historical context of the Titanic's passenger demographics. These findings can inform further analysis or modeling related to survival rates, demographic trends, and other aspects of the Titanic dataset. By understanding the age distribution, researchers can better contextualize other variables and explore potential correlations or patterns within the data. For example, the age distribution may be correlated with survival rates, with younger passengers potentially having different survival rates compared to older passengers. Further analysis could investigate these correlations and provide a more comprehensive understanding of the Titanic dataset.\n"
     ]
    }
   ],
   "source": [
    "explanation = explainer(fig1)\n",
    "print(\"Generated Explanation:\")\n",
    "print(explanation)"
   ]
  }
 ],
 "metadata": {
  "kernelspec": {
   "display_name": "venv",
   "language": "python",
   "name": "python3"
  },
  "language_info": {
   "codemirror_mode": {
    "name": "ipython",
    "version": 3
   },
   "file_extension": ".py",
   "mimetype": "text/x-python",
   "name": "python",
   "nbconvert_exporter": "python",
   "pygments_lexer": "ipython3",
   "version": "3.13.1"
  }
 },
 "nbformat": 4,
 "nbformat_minor": 2
}
