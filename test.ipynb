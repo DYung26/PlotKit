{
 "cells": [
  {
   "cell_type": "code",
   "execution_count": 9,
   "metadata": {},
   "outputs": [],
   "source": [
    "import sys\n",
    "from pathlib import Path\n",
    "# Assuming you're running the notebook from inside `test/` folder\n",
    "root_dir = Path().resolve().parent  # goes one level up from `test/`\n",
    "sys.path.insert(0, str(root_dir))"
   ]
  },
  {
   "cell_type": "code",
   "execution_count": null,
   "metadata": {},
   "outputs": [],
   "source": [
    "#import sys\n",
    "import os\n",
    "import pandas as pd\n",
    "import matplotlib.pyplot as plt\n",
    "import seaborn as sns\n",
    "from plotsense.visual_suggestion.Visual_suggestion_v2 import recommend_visualizations\n",
    "from plotsense.explanations.explanationsv2 import refine_plot_explanation\n",
    "from plotsense.plot_generator.altoplot import generate_plot\n"
   ]
  },
  {
   "cell_type": "code",
   "execution_count": 11,
   "metadata": {},
   "outputs": [
    {
     "data": {
      "text/plain": [
       "['anagrams',\n",
       " 'anscombe',\n",
       " 'attention',\n",
       " 'brain_networks',\n",
       " 'car_crashes',\n",
       " 'diamonds',\n",
       " 'dots',\n",
       " 'dowjones',\n",
       " 'exercise',\n",
       " 'flights',\n",
       " 'fmri',\n",
       " 'geyser',\n",
       " 'glue',\n",
       " 'healthexp',\n",
       " 'iris',\n",
       " 'mpg',\n",
       " 'penguins',\n",
       " 'planets',\n",
       " 'seaice',\n",
       " 'taxis',\n",
       " 'tips',\n",
       " 'titanic']"
      ]
     },
     "execution_count": 11,
     "metadata": {},
     "output_type": "execute_result"
    }
   ],
   "source": [
    "sns.get_dataset_names()"
   ]
  },
  {
   "cell_type": "code",
   "execution_count": 12,
   "metadata": {},
   "outputs": [
    {
     "data": {
      "text/plain": [
       "Index(['survived', 'pclass', 'sex', 'age', 'sibsp', 'parch', 'fare',\n",
       "       'embarked', 'class', 'who', 'adult_male', 'deck', 'embark_town',\n",
       "       'alive', 'alone'],\n",
       "      dtype='object')"
      ]
     },
     "execution_count": 12,
     "metadata": {},
     "output_type": "execute_result"
    }
   ],
   "source": [
    "titanic = sns.load_dataset('titanic')\n",
    "titanic.columns"
   ]
  },
  {
   "cell_type": "code",
   "execution_count": 24,
   "metadata": {},
   "outputs": [
    {
     "data": {
      "text/html": [
       "<div>\n",
       "<style scoped>\n",
       "    .dataframe tbody tr th:only-of-type {\n",
       "        vertical-align: middle;\n",
       "    }\n",
       "\n",
       "    .dataframe tbody tr th {\n",
       "        vertical-align: top;\n",
       "    }\n",
       "\n",
       "    .dataframe thead th {\n",
       "        text-align: right;\n",
       "    }\n",
       "</style>\n",
       "<table border=\"1\" class=\"dataframe\">\n",
       "  <thead>\n",
       "    <tr style=\"text-align: right;\">\n",
       "      <th></th>\n",
       "      <th>plot_type</th>\n",
       "      <th>variables</th>\n",
       "      <th>rationale</th>\n",
       "      <th>ensemble_score</th>\n",
       "    </tr>\n",
       "  </thead>\n",
       "  <tbody>\n",
       "    <tr>\n",
       "      <th>0</th>\n",
       "      <td>bar chart</td>\n",
       "      <td>survived, sex</td>\n",
       "      <td>This visualization can reveal the relationship...</td>\n",
       "      <td>1.000000</td>\n",
       "    </tr>\n",
       "    <tr>\n",
       "      <th>1</th>\n",
       "      <td>scatter plot</td>\n",
       "      <td>age, fare, survived</td>\n",
       "      <td>This plot can help identify relationships betw...</td>\n",
       "      <td>0.500000</td>\n",
       "    </tr>\n",
       "    <tr>\n",
       "      <th>2</th>\n",
       "      <td>histogram</td>\n",
       "      <td>age</td>\n",
       "      <td>A histogram of age can provide a detailed view...</td>\n",
       "      <td>0.333333</td>\n",
       "    </tr>\n",
       "  </tbody>\n",
       "</table>\n",
       "</div>"
      ],
      "text/plain": [
       "      plot_type            variables  \\\n",
       "0     bar chart        survived, sex   \n",
       "1  scatter plot  age, fare, survived   \n",
       "2     histogram                  age   \n",
       "\n",
       "                                           rationale  ensemble_score  \n",
       "0  This visualization can reveal the relationship...        1.000000  \n",
       "1  This plot can help identify relationships betw...        0.500000  \n",
       "2  A histogram of age can provide a detailed view...        0.333333  "
      ]
     },
     "execution_count": 24,
     "metadata": {},
     "output_type": "execute_result"
    }
   ],
   "source": [
    "recommendation = recommend_visualizations(titanic)\n",
    "recommendation"
   ]
  },
  {
   "cell_type": "code",
   "execution_count": 32,
   "metadata": {},
   "outputs": [
    {
     "data": {
      "text/plain": [
       "plot_type                                                 bar chart\n",
       "variables                                             survived, sex\n",
       "rationale         This visualization can reveal the relationship...\n",
       "ensemble_score                                                  1.0\n",
       "Name: 0, dtype: object"
      ]
     },
     "execution_count": 32,
     "metadata": {},
     "output_type": "execute_result"
    }
   ],
   "source": [
    "recommendation.iloc[0]"
   ]
  },
  {
   "cell_type": "code",
   "execution_count": null,
   "metadata": {},
   "outputs": [
    {
     "data": {
      "image/png": "[encoded data removed]",
      "text/plain": [
       "<Figure size 640x480 with 1 Axes>"
      ]
     },
     "metadata": {},
     "output_type": "display_data"
    }
   ],
   "source": [
    "#bar chart\n",
    "variable_name = generate_plot(titanic, recommendation[0])\n",
    "#bar chart\n",
    "variable_name = generate_plot(titanic, recommendation[0], x_col='x', y_col='y')\n",
    "\n",
    "\n",
    "#parallel plot\n",
    "variable_name = generate_plot(titanic, recommendation[1])\n",
    "#scatter plot\n",
    "variable_name = generate_plot(titanic, recommendation[2])"
   ]
  },
  {
   "cell_type": "code",
   "execution_count": null,
   "metadata": {},
   "outputs": [
    {
     "data": {
      "text/plain": [
       "<Axes: xlabel='survived', ylabel='pclass'>"
      ]
     },
     "execution_count": 7,
     "metadata": {},
     "output_type": "execute_result"
    },
    {
     "data": {
      "image/png": "[encoded data removed]",
      "text/plain": [
       "<Figure size 640x480 with 1 Axes>"
      ]
     },
     "metadata": {},
     "output_type": "display_data"
    }
   ],
   "source": [
    "# fig, ax = plt.subplots()\n",
    "# sns.barplot(data=titanic, x='survived', y='pclass', ax=ax)"
   ]
  },
  {
   "cell_type": "code",
   "execution_count": null,
   "metadata": {},
   "outputs": [
    {
     "name": "stdout",
     "output_type": "stream",
     "text": [
      "Generated Explanation:\n",
      "## Improved Explanation\n",
      "\n",
      "The provided bar graph illustrates the relationship between survival status and passenger class (pclass) in a dataset, likely from the Titanic. The x-axis is labeled \"survived,\" with categories 0 and 1 representing individuals who did not survive and those who survived, respectively. The y-axis represents the passenger class (pclass).\n",
      "\n",
      "### Interpretation\n",
      "\n",
      "* **Passenger Class Representation:** The height of each bar corresponds to the average passenger class of individuals who did not survive (0) and those who survived (1). \n",
      "* **Survival and Passenger Class:** \n",
      " * The bar for \"0\" (did not survive) extends higher on the y-axis, indicating that, on average, those who did not survive were of a higher passenger class compared to those who survived. Specifically, the average passenger class for non-survivors is approximately 2.5, while for survivors, it is around 2.0.\n",
      " * This suggests that higher passenger classes had lower survival rates. In other words, as passenger class increases, survival rates decrease.\n",
      "\n",
      "### Error Bars and Variability\n",
      "\n",
      "* Small vertical lines at the top of each bar represent the standard error, indicating the variability or uncertainty in the measurements. The standard error provides a measure of how much the sample mean may vary from the true population mean. In this case, the error bars are relatively small, suggesting that the sample means are reliable.\n",
      "\n",
      "### Context and Implications\n",
      "\n",
      "* This relationship is consistent with historical data from the Titanic, where class played a significant role in survival rates during the disaster. The graph implies that socio-economic factors, as reflected in passenger class, had a substantial impact on survival outcomes.\n",
      "* The disparity in survival rates between different passenger classes can be attributed to various factors, including access to lifeboats, proximity to emergency exits, and social and economic advantages.\n",
      "\n",
      "### Conclusion\n",
      "\n",
      "The graph clearly demonstrates a negative relationship between passenger class and survival status, with higher-class passengers being less likely to survive. This finding underscores the significance of socio-economic factors in determining survival outcomes in critical situations. By examining the graph and considering the context of the Titanic dataset, we gain insight into the complex interplay between social class and survival rates during this pivotal historical event.\n"
     ]
    }
   ],
   "source": [
    "explanation = refine_plot_explanation(plot_1)\n",
    "print(\"Generated Explanation:\")\n",
    "print(explanation)"
   ]
  }
 ],
 "metadata": {
  "kernelspec": {
   "display_name": "venv",
   "language": "python",
   "name": "python3"
  },
  "language_info": {
   "codemirror_mode": {
    "name": "ipython",
    "version": 3
   },
   "file_extension": ".py",
   "mimetype": "text/x-python",
   "name": "python",
   "nbconvert_exporter": "python",
   "pygments_lexer": "ipython3",
   "version": "3.13.1"
  }
 },
 "nbformat": 4,
 "nbformat_minor": 2
}
