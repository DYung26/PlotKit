{
 "cells": [
  {
   "cell_type": "code",
   "execution_count": 1,
   "metadata": {},
   "outputs": [],
   "source": [
    "# import sys\n",
    "# from pathlib import Path\n",
    "# root_dir = Path().resolve().parent  # goes one level up from `test/`\n",
    "# sys.path.insert(0, str(root_dir))"
   ]
  },
  {
   "cell_type": "code",
   "execution_count": 2,
   "metadata": {},
   "outputs": [],
   "source": [
    "import sys\n",
    "import os\n",
    "import pandas as pd\n",
    "import matplotlib.pyplot as plt\n",
    "import seaborn as sns\n",
    "from plotsense import  recommender, plotgen, explainer\n"
   ]
  },
  {
   "cell_type": "code",
   "execution_count": null,
   "metadata": {},
   "outputs": [],
   "source": [
    "os.environ['GROQ_API_KEY'] = 'PUT YOUR GROQ API KEY HERE'"
   ]
  },
  {
   "cell_type": "code",
   "execution_count": 4,
   "metadata": {},
   "outputs": [
    {
     "data": {
      "text/plain": [
       "['anagrams',\n",
       " 'anscombe',\n",
       " 'attention',\n",
       " 'brain_networks',\n",
       " 'car_crashes',\n",
       " 'diamonds',\n",
       " 'dots',\n",
       " 'dowjones',\n",
       " 'exercise',\n",
       " 'flights',\n",
       " 'fmri',\n",
       " 'geyser',\n",
       " 'glue',\n",
       " 'healthexp',\n",
       " 'iris',\n",
       " 'mpg',\n",
       " 'penguins',\n",
       " 'planets',\n",
       " 'seaice',\n",
       " 'taxis',\n",
       " 'tips',\n",
       " 'titanic']"
      ]
     },
     "execution_count": 4,
     "metadata": {},
     "output_type": "execute_result"
    }
   ],
   "source": [
    "sns.get_dataset_names()"
   ]
  },
  {
   "cell_type": "code",
   "execution_count": 5,
   "metadata": {},
   "outputs": [],
   "source": [
    "titanic = sns.load_dataset(\"titanic\")"
   ]
  },
  {
   "cell_type": "code",
   "execution_count": 6,
   "metadata": {},
   "outputs": [
    {
     "data": {
      "text/plain": [
       "<Axes: title={'center': 'Titanic Dataset'}, xlabel='age', ylabel='Count'>"
      ]
     },
     "execution_count": 6,
     "metadata": {},
     "output_type": "execute_result"
    },
    {
     "data": {
      "image/png": "[encoded data removed]",
      "text/plain": [
       "<Figure size 640x480 with 1 Axes>"
      ]
     },
     "metadata": {},
     "output_type": "display_data"
    }
   ],
   "source": [
    "fig1 = plt.figure()\n",
    "ax1 = fig1.add_subplot(111) \n",
    "ax1.set_title(\"Titanic Dataset\")\n",
    "sns.histplot(data=titanic, x=\"age\", ax=ax1) \n"
   ]
  },
  {
   "cell_type": "code",
   "execution_count": 7,
   "metadata": {},
   "outputs": [
    {
     "data": {
      "text/html": [
       "<div>\n",
       "<style scoped>\n",
       "    .dataframe tbody tr th:only-of-type {\n",
       "        vertical-align: middle;\n",
       "    }\n",
       "\n",
       "    .dataframe tbody tr th {\n",
       "        vertical-align: top;\n",
       "    }\n",
       "\n",
       "    .dataframe thead th {\n",
       "        text-align: right;\n",
       "    }\n",
       "</style>\n",
       "<table border=\"1\" class=\"dataframe\">\n",
       "  <thead>\n",
       "    <tr style=\"text-align: right;\">\n",
       "      <th></th>\n",
       "      <th>plot_type</th>\n",
       "      <th>variables</th>\n",
       "      <th>ensemble_score</th>\n",
       "      <th>model_agreement</th>\n",
       "      <th>source_models</th>\n",
       "    </tr>\n",
       "  </thead>\n",
       "  <tbody>\n",
       "    <tr>\n",
       "      <th>0</th>\n",
       "      <td>hist</td>\n",
       "      <td>age</td>\n",
       "      <td>1.0</td>\n",
       "      <td>2</td>\n",
       "      <td>[llama-3.1-8b-instant, llama-3.3-70b-versatile]</td>\n",
       "    </tr>\n",
       "    <tr>\n",
       "      <th>1</th>\n",
       "      <td>scatter</td>\n",
       "      <td>age, fare</td>\n",
       "      <td>1.0</td>\n",
       "      <td>2</td>\n",
       "      <td>[llama-3.1-8b-instant, llama-3.3-70b-versatile]</td>\n",
       "    </tr>\n",
       "    <tr>\n",
       "      <th>2</th>\n",
       "      <td>bar</td>\n",
       "      <td>pclass, survived</td>\n",
       "      <td>0.5</td>\n",
       "      <td>1</td>\n",
       "      <td>[llama-3.1-8b-instant]</td>\n",
       "    </tr>\n",
       "    <tr>\n",
       "      <th>3</th>\n",
       "      <td>boxplot</td>\n",
       "      <td>parch, sibsp</td>\n",
       "      <td>0.5</td>\n",
       "      <td>1</td>\n",
       "      <td>[llama-3.1-8b-instant]</td>\n",
       "    </tr>\n",
       "    <tr>\n",
       "      <th>4</th>\n",
       "      <td>pie</td>\n",
       "      <td>survived</td>\n",
       "      <td>0.5</td>\n",
       "      <td>1</td>\n",
       "      <td>[llama-3.1-8b-instant]</td>\n",
       "    </tr>\n",
       "  </tbody>\n",
       "</table>\n",
       "</div>"
      ],
      "text/plain": [
       "  plot_type         variables  ensemble_score  model_agreement  \\\n",
       "0      hist               age             1.0                2   \n",
       "1   scatter         age, fare             1.0                2   \n",
       "2       bar  pclass, survived             0.5                1   \n",
       "3   boxplot      parch, sibsp             0.5                1   \n",
       "4       pie          survived             0.5                1   \n",
       "\n",
       "                                     source_models  \n",
       "0  [llama-3.1-8b-instant, llama-3.3-70b-versatile]  \n",
       "1  [llama-3.1-8b-instant, llama-3.3-70b-versatile]  \n",
       "2                           [llama-3.1-8b-instant]  \n",
       "3                           [llama-3.1-8b-instant]  \n",
       "4                           [llama-3.1-8b-instant]  "
      ]
     },
     "execution_count": 7,
     "metadata": {},
     "output_type": "execute_result"
    }
   ],
   "source": [
    "recommendation = recommender(titanic)\n",
    "recommendation"
   ]
  },
  {
   "cell_type": "code",
   "execution_count": 9,
   "metadata": {},
   "outputs": [
    {
     "data": {
      "image/png": "[encoded data removed]",
      "text/plain": [
       "<Figure size 640x480 with 1 Axes>"
      ]
     },
     "metadata": {},
     "output_type": "display_data"
    }
   ],
   "source": [
    "fig = plotgen(titanic, 1, recommendation)"
   ]
  },
  {
   "cell_type": "code",
   "execution_count": 10,
   "metadata": {},
   "outputs": [
    {
     "name": "stdout",
     "output_type": "stream",
     "text": [
      "Generated Explanation:\n",
      "## Overview\n",
      "The histogram of the Titanic dataset reveals a predominantly young adult population with a median age of approximately 28 years, hinting at the demographic trends of the era. This visualization provides insights into the age distribution of individuals, which is crucial for understanding the demographic characteristics and potential biases in the data.\n",
      "\n",
      "## Key Features\n",
      "* **X-axis:** The x-axis represents the age of individuals, ranging from 0 to 80 years, with a bin width of 5 years. This bin width was selected to balance granularity and smoothness, allowing for the identification of distinct age groups while minimizing noise. The choice of a 5-year bin width enables a clear visualization of age trends without being too granular or too coarse.\n",
      "* **Y-axis:** The y-axis represents the count or frequency of individuals within each age range, providing a clear indication of the number of passengers in each age group.\n",
      "* **Bars:** The histogram consists of blue bars, each representing a specific age range. The height of each bar corresponds to the count of individuals within that age range.\n",
      "\n",
      "## Insights and Patterns\n",
      "* **Age Distribution:** The histogram approximates a bell-shaped distribution with a peak at 20-25 years and a gradual decline in frequency for ages above 30. The distribution exhibits a positive skew of 0.5, indicating a longer tail towards older ages.\n",
      "* **Frequency of Ages:**\n",
      " * The highest frequency is observed around the age of 20-25, with approximately 94 individuals.\n",
      " * The frequency gradually decreases as age increases beyond 30, with a noticeable drop in frequency for ages above 60.\n",
      " * There is a secondary peak around 5-10 years, suggesting a notable presence of children.\n",
      "* **Notable Peaks and Troughs:**\n",
      " * A significant peak is observed at around 20-25 years, indicating a high concentration of young adults.\n",
      " * A smaller peak is visible around 5-10 years, suggesting a notable presence of children.\n",
      " * The frequency drops significantly for ages above 70, with only a few individuals in this age range.\n",
      "\n",
      "## Statistical Insights\n",
      "* **Median and Mean Age:** The median age is 28 years, and the mean age is approximately 29.5 years, indicating a slight skew to the right. The standard deviation of 14.5 years indicates considerable variability in age among passengers.\n",
      "* **Interquartile Range (IQR):** The IQR is approximately 20-38 years, suggesting that the middle 50% of the passengers are between 20 and 38 years old.\n",
      "* **Skewness and Kurtosis:** The distribution exhibits a positive skew of 0.5 and a kurtosis of -0.2, indicating a slightly longer tail towards older ages and a relatively flat peak.\n",
      "\n",
      "## Conclusion\n",
      "The histogram provides valuable insights into the age distribution of individuals in the Titanic dataset. The data is skewed towards younger ages, with a peak frequency around 20-30 years. The presence of a secondary peak around 5-10 years indicates a notable number of children. The gradual decline in frequency with increasing age beyond 30 suggests that older adults are less represented in the dataset. Future analysis could investigate how age correlates with survival rates or socio-economic status, providing deeper insights into the demographic dynamics of the Titanic's passengers. Additionally, exploring the relationship between age and other variables, such as class or family size, could offer further context for understanding the dataset. \n",
      "\n",
      "It is also worth noting that there is a considerable number of passengers with age 0 (approximately 37 individuals), which might indicate missing age values. Further analysis could explore the impact of missing values on the overall age distribution and the potential implications for the demographic trends observed.\n"
     ]
    }
   ],
   "source": [
    "explanation = explainer(fig1)\n",
    "print(\"Generated Explanation:\")\n",
    "print(explanation)"
   ]
  }
 ],
 "metadata": {
  "kernelspec": {
   "display_name": "venv",
   "language": "python",
   "name": "python3"
  },
  "language_info": {
   "codemirror_mode": {
    "name": "ipython",
    "version": 3
   },
   "file_extension": ".py",
   "mimetype": "text/x-python",
   "name": "python",
   "nbconvert_exporter": "python",
   "pygments_lexer": "ipython3",
   "version": "3.13.1"
  }
 },
 "nbformat": 4,
 "nbformat_minor": 2
}
