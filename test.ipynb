{
 "cells": [
  {
   "cell_type": "code",
   "execution_count": 15,
   "metadata": {},
   "outputs": [],
   "source": [
    "# import sys\n",
    "# from pathlib import Path\n",
    "# root_dir = Path().resolve().parent  # goes one level up from `test/`\n",
    "# sys.path.insert(0, str(root_dir))"
   ]
  },
  {
   "cell_type": "code",
   "execution_count": 16,
   "metadata": {},
   "outputs": [],
   "source": [
    "import sys\n",
    "import os\n",
    "import pandas as pd\n",
    "import matplotlib.pyplot as plt\n",
    "import seaborn as sns\n",
    "from plotsense import  recommender, plotgen, explainer\n",
    "import openpyxl"
   ]
  },
  {
   "cell_type": "code",
   "execution_count": 17,
   "metadata": {},
   "outputs": [
    {
     "data": {
      "text/plain": [
       "['anagrams',\n",
       " 'anscombe',\n",
       " 'attention',\n",
       " 'brain_networks',\n",
       " 'car_crashes',\n",
       " 'diamonds',\n",
       " 'dots',\n",
       " 'dowjones',\n",
       " 'exercise',\n",
       " 'flights',\n",
       " 'fmri',\n",
       " 'geyser',\n",
       " 'glue',\n",
       " 'healthexp',\n",
       " 'iris',\n",
       " 'mpg',\n",
       " 'penguins',\n",
       " 'planets',\n",
       " 'seaice',\n",
       " 'taxis',\n",
       " 'tips',\n",
       " 'titanic']"
      ]
     },
     "execution_count": 17,
     "metadata": {},
     "output_type": "execute_result"
    }
   ],
   "source": [
    "sns.get_dataset_names()"
   ]
  },
  {
   "cell_type": "code",
   "execution_count": 18,
   "metadata": {},
   "outputs": [],
   "source": [
    "flights = sns.load_dataset(\"flights\")"
   ]
  },
  {
   "cell_type": "code",
   "execution_count": 19,
   "metadata": {},
   "outputs": [],
   "source": [
    "data = r\"PLD Data for Hackathon.xlsx\""
   ]
  },
  {
   "cell_type": "code",
   "execution_count": 20,
   "metadata": {},
   "outputs": [],
   "source": [
    "hack = pd.read_excel(data, nrows=500)\n"
   ]
  },
  {
   "cell_type": "code",
   "execution_count": 21,
   "metadata": {},
   "outputs": [
    {
     "data": {
      "text/html": [
       "<div>\n",
       "<style scoped>\n",
       "    .dataframe tbody tr th:only-of-type {\n",
       "        vertical-align: middle;\n",
       "    }\n",
       "\n",
       "    .dataframe tbody tr th {\n",
       "        vertical-align: top;\n",
       "    }\n",
       "\n",
       "    .dataframe thead th {\n",
       "        text-align: right;\n",
       "    }\n",
       "</style>\n",
       "<table border=\"1\" class=\"dataframe\">\n",
       "  <thead>\n",
       "    <tr style=\"text-align: right;\">\n",
       "      <th></th>\n",
       "      <th>Count of id</th>\n",
       "      <th>id</th>\n",
       "      <th>lpa_name</th>\n",
       "      <th>status</th>\n",
       "      <th>valid_date</th>\n",
       "      <th>decision</th>\n",
       "      <th>decision_date</th>\n",
       "      <th>total_gained_units</th>\n",
       "      <th>total_lost_units</th>\n",
       "      <th>Total Net Units</th>\n",
       "      <th>...</th>\n",
       "      <th>remaining_gained_units</th>\n",
       "      <th>remaining_lost_units</th>\n",
       "      <th>actual_commencement_date</th>\n",
       "      <th>actual_completion_date</th>\n",
       "      <th>application_type</th>\n",
       "      <th>application_type_full</th>\n",
       "      <th>description</th>\n",
       "      <th>appeal_decision</th>\n",
       "      <th>appeal_decision_date</th>\n",
       "      <th>development_type</th>\n",
       "    </tr>\n",
       "  </thead>\n",
       "  <tbody>\n",
       "    <tr>\n",
       "      <th>0</th>\n",
       "      <td>1</td>\n",
       "      <td>Wandsworth-2024_4282</td>\n",
       "      <td>Wandsworth</td>\n",
       "      <td>Approved</td>\n",
       "      <td>2024-12-06</td>\n",
       "      <td>Approved</td>\n",
       "      <td>2025-04-22</td>\n",
       "      <td>8</td>\n",
       "      <td>0</td>\n",
       "      <td>8</td>\n",
       "      <td>...</td>\n",
       "      <td>8</td>\n",
       "      <td>0</td>\n",
       "      <td>NaT</td>\n",
       "      <td>NaN</td>\n",
       "      <td>All Other</td>\n",
       "      <td>Full planning permission</td>\n",
       "      <td>Alterations including erection of roof extensi...</td>\n",
       "      <td>NaN</td>\n",
       "      <td>NaT</td>\n",
       "      <td>Minor dwellings</td>\n",
       "    </tr>\n",
       "    <tr>\n",
       "      <th>1</th>\n",
       "      <td>1</td>\n",
       "      <td>Barnet-25_0634_FUL</td>\n",
       "      <td>Barnet</td>\n",
       "      <td>Refused</td>\n",
       "      <td>2025-02-21</td>\n",
       "      <td>Refused</td>\n",
       "      <td>2025-04-17</td>\n",
       "      <td>2</td>\n",
       "      <td>2</td>\n",
       "      <td>0</td>\n",
       "      <td>...</td>\n",
       "      <td>2</td>\n",
       "      <td>2</td>\n",
       "      <td>NaT</td>\n",
       "      <td>NaN</td>\n",
       "      <td>All Other</td>\n",
       "      <td>Full planning permission</td>\n",
       "      <td>Two storey side/rear extension with pitched ro...</td>\n",
       "      <td>NaN</td>\n",
       "      <td>NaT</td>\n",
       "      <td>NaN</td>\n",
       "    </tr>\n",
       "    <tr>\n",
       "      <th>2</th>\n",
       "      <td>1</td>\n",
       "      <td>Barnet-25_0702_FUL</td>\n",
       "      <td>Barnet</td>\n",
       "      <td>Refused</td>\n",
       "      <td>2025-02-20</td>\n",
       "      <td>Refused</td>\n",
       "      <td>2025-04-17</td>\n",
       "      <td>1</td>\n",
       "      <td>0</td>\n",
       "      <td>1</td>\n",
       "      <td>...</td>\n",
       "      <td>1</td>\n",
       "      <td>0</td>\n",
       "      <td>NaT</td>\n",
       "      <td>NaN</td>\n",
       "      <td>All Other</td>\n",
       "      <td>Full planning permission</td>\n",
       "      <td>Erection of a single storey dwelling. Associat...</td>\n",
       "      <td>NaN</td>\n",
       "      <td>NaT</td>\n",
       "      <td>NaN</td>\n",
       "    </tr>\n",
       "    <tr>\n",
       "      <th>3</th>\n",
       "      <td>1</td>\n",
       "      <td>Bexley-25_00319_PRIOR</td>\n",
       "      <td>Bexley</td>\n",
       "      <td>Refused</td>\n",
       "      <td>2025-02-21</td>\n",
       "      <td>Refused</td>\n",
       "      <td>2025-04-17</td>\n",
       "      <td>2</td>\n",
       "      <td>0</td>\n",
       "      <td>2</td>\n",
       "      <td>...</td>\n",
       "      <td>2</td>\n",
       "      <td>0</td>\n",
       "      <td>NaT</td>\n",
       "      <td>NaN</td>\n",
       "      <td>Prior Approval</td>\n",
       "      <td>Prior Approval: Change of use from Commercial,...</td>\n",
       "      <td>Notification of Prior Approval for change of u...</td>\n",
       "      <td>NaN</td>\n",
       "      <td>NaT</td>\n",
       "      <td>NaN</td>\n",
       "    </tr>\n",
       "    <tr>\n",
       "      <th>4</th>\n",
       "      <td>1</td>\n",
       "      <td>Bexley-25_00330_FUL</td>\n",
       "      <td>Bexley</td>\n",
       "      <td>Approved</td>\n",
       "      <td>2025-02-20</td>\n",
       "      <td>Approved</td>\n",
       "      <td>2025-04-17</td>\n",
       "      <td>0</td>\n",
       "      <td>1</td>\n",
       "      <td>-1</td>\n",
       "      <td>...</td>\n",
       "      <td>0</td>\n",
       "      <td>1</td>\n",
       "      <td>NaT</td>\n",
       "      <td>NaN</td>\n",
       "      <td>All Other</td>\n",
       "      <td>Full planning permission</td>\n",
       "      <td>Change of Use from Class C3 (Residential Dwell...</td>\n",
       "      <td>NaN</td>\n",
       "      <td>NaT</td>\n",
       "      <td>NaN</td>\n",
       "    </tr>\n",
       "  </tbody>\n",
       "</table>\n",
       "<p>5 rows × 24 columns</p>\n",
       "</div>"
      ],
      "text/plain": [
       "   Count of id                     id    lpa_name    status valid_date  \\\n",
       "0            1   Wandsworth-2024_4282  Wandsworth  Approved 2024-12-06   \n",
       "1            1     Barnet-25_0634_FUL      Barnet   Refused 2025-02-21   \n",
       "2            1     Barnet-25_0702_FUL      Barnet   Refused 2025-02-20   \n",
       "3            1  Bexley-25_00319_PRIOR      Bexley   Refused 2025-02-21   \n",
       "4            1    Bexley-25_00330_FUL      Bexley  Approved 2025-02-20   \n",
       "\n",
       "   decision decision_date  total_gained_units  total_lost_units  \\\n",
       "0  Approved    2025-04-22                   8                 0   \n",
       "1   Refused    2025-04-17                   2                 2   \n",
       "2   Refused    2025-04-17                   1                 0   \n",
       "3   Refused    2025-04-17                   2                 0   \n",
       "4  Approved    2025-04-17                   0                 1   \n",
       "\n",
       "   Total Net Units  ...  remaining_gained_units  remaining_lost_units  \\\n",
       "0                8  ...                       8                     0   \n",
       "1                0  ...                       2                     2   \n",
       "2                1  ...                       1                     0   \n",
       "3                2  ...                       2                     0   \n",
       "4               -1  ...                       0                     1   \n",
       "\n",
       "   actual_commencement_date  actual_completion_date  application_type  \\\n",
       "0                       NaT                     NaN         All Other   \n",
       "1                       NaT                     NaN         All Other   \n",
       "2                       NaT                     NaN         All Other   \n",
       "3                       NaT                     NaN    Prior Approval   \n",
       "4                       NaT                     NaN         All Other   \n",
       "\n",
       "                               application_type_full  \\\n",
       "0                           Full planning permission   \n",
       "1                           Full planning permission   \n",
       "2                           Full planning permission   \n",
       "3  Prior Approval: Change of use from Commercial,...   \n",
       "4                           Full planning permission   \n",
       "\n",
       "                                         description  appeal_decision  \\\n",
       "0  Alterations including erection of roof extensi...              NaN   \n",
       "1  Two storey side/rear extension with pitched ro...              NaN   \n",
       "2  Erection of a single storey dwelling. Associat...              NaN   \n",
       "3  Notification of Prior Approval for change of u...              NaN   \n",
       "4  Change of Use from Class C3 (Residential Dwell...              NaN   \n",
       "\n",
       "  appeal_decision_date development_type  \n",
       "0                  NaT  Minor dwellings  \n",
       "1                  NaT              NaN  \n",
       "2                  NaT              NaN  \n",
       "3                  NaT              NaN  \n",
       "4                  NaT              NaN  \n",
       "\n",
       "[5 rows x 24 columns]"
      ]
     },
     "execution_count": 21,
     "metadata": {},
     "output_type": "execute_result"
    }
   ],
   "source": [
    "hack.head()"
   ]
  },
  {
   "cell_type": "code",
   "execution_count": 22,
   "metadata": {},
   "outputs": [
    {
     "data": {
      "text/plain": [
       "Index(['year', 'month', 'passengers'], dtype='object')"
      ]
     },
     "execution_count": 22,
     "metadata": {},
     "output_type": "execute_result"
    }
   ],
   "source": [
    "flights.columns"
   ]
  },
  {
   "cell_type": "code",
   "execution_count": 23,
   "metadata": {},
   "outputs": [
    {
     "name": "stdout",
     "output_type": "stream",
     "text": [
      "<class 'pandas.core.frame.DataFrame'>\n",
      "RangeIndex: 144 entries, 0 to 143\n",
      "Data columns (total 3 columns):\n",
      " #   Column      Non-Null Count  Dtype   \n",
      "---  ------      --------------  -----   \n",
      " 0   year        144 non-null    int64   \n",
      " 1   month       144 non-null    category\n",
      " 2   passengers  144 non-null    int64   \n",
      "dtypes: category(1), int64(2)\n",
      "memory usage: 2.9 KB\n"
     ]
    }
   ],
   "source": [
    "flights.info()"
   ]
  },
  {
   "cell_type": "code",
   "execution_count": 24,
   "metadata": {},
   "outputs": [
    {
     "data": {
      "text/plain": [
       "Index(['Count of id', 'id', 'lpa_name', 'status', 'valid_date', 'decision',\n",
       "       'decision_date', 'total_gained_units', 'total_lost_units',\n",
       "       'Total Net Units', 'commenced_gained_units', 'completed_gained_units',\n",
       "       'completed_lost_units', 'Remaining Units Net', 'remaining_gained_units',\n",
       "       'remaining_lost_units', 'actual_commencement_date',\n",
       "       'actual_completion_date', 'application_type', 'application_type_full',\n",
       "       'description', 'appeal_decision', 'appeal_decision_date',\n",
       "       'development_type'],\n",
       "      dtype='object')"
      ]
     },
     "execution_count": 24,
     "metadata": {},
     "output_type": "execute_result"
    }
   ],
   "source": [
    "hack.columns"
   ]
  },
  {
   "cell_type": "code",
   "execution_count": 25,
   "metadata": {},
   "outputs": [],
   "source": [
    "# recommendation = recommender(hack, n=20)\n",
    "# recommendation"
   ]
  },
  {
   "cell_type": "code",
   "execution_count": 26,
   "metadata": {},
   "outputs": [
    {
     "data": {
      "text/html": [
       "<div>\n",
       "<style scoped>\n",
       "    .dataframe tbody tr th:only-of-type {\n",
       "        vertical-align: middle;\n",
       "    }\n",
       "\n",
       "    .dataframe tbody tr th {\n",
       "        vertical-align: top;\n",
       "    }\n",
       "\n",
       "    .dataframe thead th {\n",
       "        text-align: right;\n",
       "    }\n",
       "</style>\n",
       "<table border=\"1\" class=\"dataframe\">\n",
       "  <thead>\n",
       "    <tr style=\"text-align: right;\">\n",
       "      <th></th>\n",
       "      <th>plot_type</th>\n",
       "      <th>variables</th>\n",
       "      <th>ensemble_score</th>\n",
       "    </tr>\n",
       "  </thead>\n",
       "  <tbody>\n",
       "    <tr>\n",
       "      <th>0</th>\n",
       "      <td>bar</td>\n",
       "      <td>Total Net Units, lpa_name</td>\n",
       "      <td>0.9</td>\n",
       "    </tr>\n",
       "    <tr>\n",
       "      <th>1</th>\n",
       "      <td>hist</td>\n",
       "      <td>age</td>\n",
       "      <td>0.8</td>\n",
       "    </tr>\n",
       "    <tr>\n",
       "      <th>2</th>\n",
       "      <td>boxplot</td>\n",
       "      <td>fare,class</td>\n",
       "      <td>0.7</td>\n",
       "    </tr>\n",
       "    <tr>\n",
       "      <th>3</th>\n",
       "      <td>scatter</td>\n",
       "      <td>age,fare</td>\n",
       "      <td>0.6</td>\n",
       "    </tr>\n",
       "    <tr>\n",
       "      <th>4</th>\n",
       "      <td>pie</td>\n",
       "      <td>class</td>\n",
       "      <td>0.5</td>\n",
       "    </tr>\n",
       "    <tr>\n",
       "      <th>5</th>\n",
       "      <td>violinplot</td>\n",
       "      <td>fare,class</td>\n",
       "      <td>0.4</td>\n",
       "    </tr>\n",
       "  </tbody>\n",
       "</table>\n",
       "</div>"
      ],
      "text/plain": [
       "    plot_type                  variables  ensemble_score\n",
       "0         bar  Total Net Units, lpa_name             0.9\n",
       "1        hist                        age             0.8\n",
       "2     boxplot                 fare,class             0.7\n",
       "3     scatter                   age,fare             0.6\n",
       "4         pie                      class             0.5\n",
       "5  violinplot                 fare,class             0.4"
      ]
     },
     "execution_count": 26,
     "metadata": {},
     "output_type": "execute_result"
    }
   ],
   "source": [
    " # Create sample recommendations\n",
    "test_rec = pd.DataFrame({\n",
    "    'plot_type': ['bar', 'hist', 'boxplot', 'scatter', 'pie', 'violinplot'],\n",
    "    'variables': ['Total Net Units, lpa_name', 'age', 'fare,class', 'age,fare', 'class', 'fare,class'],\n",
    "    'ensemble_score': [0.9, 0.8, 0.7, 0.6, 0.5, 0.4]\n",
    "})\n",
    "\n",
    "test_rec"
   ]
  },
  {
   "cell_type": "code",
   "execution_count": null,
   "metadata": {},
   "outputs": [],
   "source": []
  },
  {
   "cell_type": "code",
   "execution_count": 27,
   "metadata": {},
   "outputs": [
    {
     "data": {
      "image/png": "[encoded data removed]",
      "text/plain": [
       "<Figure size 1350x800 with 1 Axes>"
      ]
     },
     "metadata": {},
     "output_type": "display_data"
    }
   ],
   "source": [
    "fig = plotgen(hack, 0, test_rec)"
   ]
  },
  {
   "cell_type": "code",
   "execution_count": 28,
   "metadata": {},
   "outputs": [
    {
     "ename": "NameError",
     "evalue": "name 'dd' is not defined",
     "output_type": "error",
     "traceback": [
      "\u001b[31m---------------------------------------------------------------------------\u001b[39m",
      "\u001b[31mNameError\u001b[39m                                 Traceback (most recent call last)",
      "\u001b[36mCell\u001b[39m\u001b[36m \u001b[39m\u001b[32mIn[28]\u001b[39m\u001b[32m, line 1\u001b[39m\n\u001b[32m----> \u001b[39m\u001b[32m1\u001b[39m \u001b[43mdd\u001b[49m\n",
      "\u001b[31mNameError\u001b[39m: name 'dd' is not defined"
     ]
    }
   ],
   "source": [
    "dd"
   ]
  },
  {
   "cell_type": "code",
   "execution_count": null,
   "metadata": {},
   "outputs": [],
   "source": [
    "fig = plotgen(flights, recommendation.iloc[2])"
   ]
  },
  {
   "cell_type": "code",
   "execution_count": null,
   "metadata": {},
   "outputs": [],
   "source": [
    "fig = plt.plot(flights['year'], flights['passengers'])"
   ]
  },
  {
   "cell_type": "code",
   "execution_count": null,
   "metadata": {},
   "outputs": [],
   "source": [
    "fig = plotgen(hack,1,recommendation)"
   ]
  },
  {
   "cell_type": "code",
   "execution_count": null,
   "metadata": {},
   "outputs": [],
   "source": [
    "explanation = explainer(fig)\n",
    "print(\"Generated Explanation:\")\n",
    "print(explanation)"
   ]
  },
  {
   "cell_type": "code",
   "execution_count": null,
   "metadata": {},
   "outputs": [],
   "source": [
    "explanation1 = explainer(fig, prompt=\"Explain the plot in detail.\")\n",
    "print(\"Generated Explanation with Custom Prompt:\")      \n",
    "print(explanation1)"
   ]
  },
  {
   "cell_type": "code",
   "execution_count": null,
   "metadata": {},
   "outputs": [],
   "source": [
    "explanation2 = explainer(fig,iterations=5)\n",
    "print(\"Generated Explanation with Custom Iterations:\")\n",
    "print(explanation2)"
   ]
  }
 ],
 "metadata": {
  "kernelspec": {
   "display_name": "venv",
   "language": "python",
   "name": "python3"
  },
  "language_info": {
   "codemirror_mode": {
    "name": "ipython",
    "version": 3
   },
   "file_extension": ".py",
   "mimetype": "text/x-python",
   "name": "python",
   "nbconvert_exporter": "python",
   "pygments_lexer": "ipython3",
   "version": "3.13.1"
  }
 },
 "nbformat": 4,
 "nbformat_minor": 2
}
